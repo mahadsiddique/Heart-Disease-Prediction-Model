{
 "cells": [
  {
   "cell_type": "markdown",
   "id": "453f4f65-883a-4a85-981b-1fc9ff6d4145",
   "metadata": {},
   "source": [
    "**Name: Mahad Siddique**\n",
    "\n",
    "**Email: mahadsiddique07@gmail.com**"
   ]
  },
  {
   "cell_type": "markdown",
   "id": "ee14a5ad-67b3-4aa9-a353-d377b8691465",
   "metadata": {},
   "source": [
    "# **Ai 2024 Online Summer Internship**\n",
    "  \n",
    "# **Make Your Place in Top 20% AI Engineers**  \n",
    "# **of the World** "
   ]
  },
  {
   "cell_type": "markdown",
   "id": "031523c0-4ec5-4003-8a15-c0835cbf4c2b",
   "metadata": {},
   "source": [
    "#**Step 1: Import Libraries**"
   ]
  },
  {
   "cell_type": "code",
   "execution_count": 54,
   "id": "4474d471-2b14-4f4f-973b-6ad838ef0b7d",
   "metadata": {},
   "outputs": [],
   "source": [
    "# Import Libraries\n",
    "\n",
    "import numpy as np\n",
    "import pandas as pd\n",
    "import pickle\n",
    "\n",
    "from sklearn.model_selection import train_test_split\n",
    "from sklearn.preprocessing import LabelEncoder\n",
    "from sklearn import svm\n",
    "from sklearn.metrics import accuracy_score\n",
    "\n",
    "from prettytable import PrettyTable   \n",
    "from astropy.table import Table, Column"
   ]
  },
  {
   "cell_type": "markdown",
   "id": "ec11a871-2a75-429c-918c-fa558cd258bf",
   "metadata": {},
   "source": [
    "**Step 2: Load Sample Data**"
   ]
  },
  {
   "cell_type": "code",
   "execution_count": 56,
   "id": "608d8fc5-a990-4a8d-9178-ea8c7a10cf31",
   "metadata": {},
   "outputs": [
    {
     "name": "stdout",
     "output_type": "stream",
     "text": [
      "\n",
      "\n",
      "Sample Data:\n",
      "============\n",
      "\n",
      "    age  sex  trestbps  exang  target\n",
      "0    63    1       145      0       1\n",
      "1    37    1       130      0       1\n",
      "2    41    0       130      0       1\n",
      "3    56    1       120      0       1\n",
      "4    57    0       120      1       1\n",
      "5    57    1       140      0       1\n",
      "6    56    0       140      0       1\n",
      "7    44    1       120      0       1\n",
      "8    52    1       172      0       1\n",
      "9    57    1       150      0       1\n",
      "10   54    1       140      0       1\n",
      "11   48    0       130      0       1\n",
      "12   49    1       130      0       1\n",
      "13   64    1       110      1       1\n",
      "14   58    0       150      0       1\n",
      "15   50    0       120      0       1\n",
      "16   58    0       120      0       1\n",
      "17   66    0       150      0       1\n",
      "18   43    1       150      0       1\n",
      "19   69    0       140      0       1\n",
      "20   59    1       135      0       1\n",
      "21   44    1       130      1       1\n",
      "22   42    1       140      0       1\n",
      "23   61    1       150      1       1\n",
      "24   40    1       140      1       1\n",
      "25   71    0       160      0       1\n",
      "26   59    1       150      0       1\n",
      "27   51    1       110      0       1\n",
      "28   65    0       140      0       1\n",
      "29   53    1       130      0       1\n",
      "30   41    0       105      0       1\n",
      "31   65    1       120      0       1\n",
      "32   44    1       130      0       1\n",
      "33   54    1       125      0       1\n",
      "34   51    1       125      1       1\n",
      "35   46    0       142      1       1\n",
      "36   54    0       135      0       1\n",
      "37   54    1       150      0       1\n",
      "38   65    0       155      0       1\n",
      "39   65    0       160      0       1\n",
      "40   51    0       140      0       1\n",
      "41   48    1       130      0       1\n",
      "42   45    1       104      1       1\n",
      "43   53    0       130      0       1\n",
      "44   39    1       140      0       1\n",
      "45   52    1       120      0       1\n",
      "46   44    1       140      0       1\n",
      "47   47    1       138      0       1\n",
      "48   53    0       128      0       1\n",
      "49   53    0       138      0       1\n",
      "50   67    1       160      1       0\n",
      "51   67    1       120      1       0\n",
      "52   62    0       140      0       0\n",
      "53   63    1       130      0       0\n",
      "54   53    1       140      1       0\n",
      "55   56    1       130      1       0\n",
      "56   48    1       110      0       0\n",
      "57   58    1       120      0       0\n",
      "58   58    1       132      0       0\n",
      "59   60    1       130      1       0\n",
      "60   40    1       110      1       0\n",
      "61   60    1       117      1       0\n",
      "62   64    1       140      0       0\n",
      "63   43    1       120      1       0\n",
      "64   57    1       150      1       0\n",
      "65   55    1       132      1       0\n",
      "66   65    0       150      0       0\n",
      "67   61    0       130      0       0\n",
      "68   58    1       112      0       0\n",
      "69   50    1       150      0       0\n",
      "70   44    1       112      0       0\n",
      "71   60    1       130      1       0\n",
      "72   54    1       124      1       0\n",
      "73   50    1       140      0       0\n",
      "74   41    1       110      0       0\n",
      "75   51    0       130      1       0\n",
      "76   58    1       128      1       0\n",
      "77   54    1       120      0       0\n",
      "78   60    1       145      1       0\n",
      "79   60    1       140      0       0\n",
      "80   59    1       170      1       0\n",
      "81   46    1       150      0       0\n",
      "82   67    1       125      0       0\n",
      "83   62    1       120      1       0\n",
      "84   65    1       110      0       0\n",
      "85   44    1       110      0       0\n",
      "86   60    1       125      1       0\n",
      "87   58    1       150      1       0\n",
      "88   68    1       180      1       0\n",
      "89   62    0       160      0       0\n",
      "90   52    1       128      1       0\n",
      "91   59    1       110      1       0\n",
      "92   60    0       150      0       0\n",
      "93   49    1       120      0       0\n",
      "94   59    1       140      1       0\n",
      "95   57    1       128      0       0\n",
      "96   61    1       120      1       0\n",
      "97   39    1       118      0       0\n",
      "98   61    0       145      1       0\n",
      "99   56    1       125      1       0\n"
     ]
    }
   ],
   "source": [
    "# Load Sample Data\n",
    "\n",
    "''' \n",
    "*---------------------- LOAD_SAMPLE_DATA ------------------------*\n",
    "|     Function: read_csv()                                       |\n",
    "|             Purpose: Read a dataset in CSV file format         |\n",
    "|     Arguments:                                                 |\n",
    "|             path: Path to dataset file                         |\n",
    "|             dataset: Dataset file name                         |\n",
    "|     Return:                                                    |\n",
    "|             dataset: Dataset in DataFrame format               |\n",
    "*----------------------------------------------------------------*\n",
    "'''\n",
    " \n",
    "sample_data = pd.read_csv(\"Heart-disease.csv\")\n",
    "\n",
    "print(\"\\n\\nSample Data:\")\n",
    "print(\"============\\n\")\n",
    "pd.set_option(\"display.max_rows\", None, \"display.max_columns\", None)\n",
    "print(sample_data)"
   ]
  },
  {
   "cell_type": "markdown",
   "id": "8df8a1ca-e10e-48b3-8f98-0ee83200b5dd",
   "metadata": {},
   "source": [
    "# Step 3: Understand and Pre-process Sample Data"
   ]
  },
  {
   "cell_type": "markdown",
   "id": "3b92b799-3a6e-44d7-a20d-0fc23f242aa4",
   "metadata": {},
   "source": [
    "## Step 3.1: Understand Sample Data"
   ]
  },
  {
   "cell_type": "code",
   "execution_count": 58,
   "id": "420a8e58-cbad-4f59-9d5b-99cc6aeb3a66",
   "metadata": {},
   "outputs": [
    {
     "name": "stdout",
     "output_type": "stream",
     "text": [
      "\n",
      "\n",
      "Attributes in Sample Data:\n",
      "==========================\n",
      "\n",
      "Index(['age', 'sex', 'trestbps', 'exang', 'target'], dtype='object')\n",
      "\n",
      "\n",
      "Number of Instances in Sample Data: 100\n",
      "========================================\n",
      "\n"
     ]
    }
   ],
   "source": [
    "# Understand Sample Data\n",
    "\n",
    "print(\"\\n\\nAttributes in Sample Data:\")\n",
    "print(\"==========================\\n\")\n",
    "\n",
    "print(sample_data.columns)\n",
    "\n",
    "print(\"\\n\\nNumber of Instances in Sample Data:\",sample_data[\"age\"].count())\n",
    "print(\"========================================\\n\")"
   ]
  },
  {
   "cell_type": "markdown",
   "id": "58c2366b-5499-4799-9bf7-8d4d9c04b888",
   "metadata": {},
   "source": [
    "## Step 3.2: Pre-process Sample Data\n",
    "    o\tSample Data is already Preprocessed\n",
    "    o\tNo Preprocessing needs to be Performed "
   ]
  },
  {
   "cell_type": "markdown",
   "id": "7a9ba41c-4b6d-452e-a3e0-f432cffa17ea",
   "metadata": {},
   "source": [
    "# Step 4: Feature Extraction\n",
    "    o\tFeatures are already Extracted\n",
    "    o\tNo Feature Extraction needs to be Performed"
   ]
  },
  {
   "cell_type": "markdown",
   "id": "505e6b3a-615f-49b2-902b-3f11fe5d2ef3",
   "metadata": {},
   "source": [
    "# Step 5: Label Encoding the Sample Data (Input and Output is converted in Numeric Representation)"
   ]
  },
  {
   "cell_type": "markdown",
   "id": "3a9ce46c-fde0-48e8-be88-e161e6b8d13e",
   "metadata": {},
   "source": [
    "Its already in numerical form so no need to encode them\r\n",
    "\r\n"
   ]
  },
  {
   "cell_type": "markdown",
   "id": "1d846bb1-39a3-4940-8cf7-fdc90d20b13c",
   "metadata": {},
   "source": [
    "# Step 6: Execute the Training Phase "
   ]
  },
  {
   "cell_type": "markdown",
   "id": "15fe51bb-0bb1-42f5-b0fd-4b131cf6c739",
   "metadata": {},
   "source": [
    "## Step 6.1: Splitting Sample Data into Training Data and Testing Data"
   ]
  },
  {
   "cell_type": "code",
   "execution_count": 69,
   "id": "f73b0cd3-48e5-401b-8fa1-52722c46258b",
   "metadata": {},
   "outputs": [
    {
     "name": "stdout",
     "output_type": "stream",
     "text": [
      "\n",
      "\n",
      "Training Data:\n",
      "==============\n",
      "\n",
      "    age  sex  trestbps  exang  target\n",
      "0    63    1       145      0       1\n",
      "1    37    1       130      0       1\n",
      "2    41    0       130      0       1\n",
      "3    56    1       120      0       1\n",
      "4    57    0       120      1       1\n",
      "5    57    1       140      0       1\n",
      "6    56    0       140      0       1\n",
      "7    44    1       120      0       1\n",
      "8    52    1       172      0       1\n",
      "9    57    1       150      0       1\n",
      "10   54    1       140      0       1\n",
      "11   48    0       130      0       1\n",
      "12   49    1       130      0       1\n",
      "13   64    1       110      1       1\n",
      "14   58    0       150      0       1\n",
      "15   50    0       120      0       1\n",
      "16   58    0       120      0       1\n",
      "17   66    0       150      0       1\n",
      "18   43    1       150      0       1\n",
      "19   69    0       140      0       1\n",
      "20   59    1       135      0       1\n",
      "21   44    1       130      1       1\n",
      "22   42    1       140      0       1\n",
      "23   61    1       150      1       1\n",
      "24   40    1       140      1       1\n",
      "25   71    0       160      0       1\n",
      "26   59    1       150      0       1\n",
      "27   51    1       110      0       1\n",
      "28   65    0       140      0       1\n",
      "29   53    1       130      0       1\n",
      "30   41    0       105      0       1\n",
      "31   65    1       120      0       1\n",
      "32   44    1       130      0       1\n",
      "33   54    1       125      0       1\n",
      "34   51    1       125      1       1\n",
      "35   46    0       142      1       1\n",
      "36   54    0       135      0       1\n",
      "37   54    1       150      0       1\n",
      "38   65    0       155      0       1\n",
      "39   65    0       160      0       1\n",
      "40   51    0       140      0       1\n",
      "41   48    1       130      0       1\n",
      "42   45    1       104      1       1\n",
      "43   53    0       130      0       1\n",
      "44   39    1       140      0       1\n",
      "45   52    1       120      0       1\n",
      "46   44    1       140      0       1\n",
      "47   47    1       138      0       1\n",
      "48   53    0       128      0       1\n",
      "49   53    0       138      0       1\n",
      "50   67    1       160      1       0\n",
      "51   67    1       120      1       0\n",
      "52   62    0       140      0       0\n",
      "53   63    1       130      0       0\n",
      "54   53    1       140      1       0\n",
      "55   56    1       130      1       0\n",
      "56   48    1       110      0       0\n",
      "57   58    1       120      0       0\n",
      "58   58    1       132      0       0\n",
      "59   60    1       130      1       0\n",
      "60   40    1       110      1       0\n",
      "61   60    1       117      1       0\n",
      "62   64    1       140      0       0\n",
      "63   43    1       120      1       0\n",
      "64   57    1       150      1       0\n",
      "65   55    1       132      1       0\n",
      "66   65    0       150      0       0\n",
      "67   61    0       130      0       0\n",
      "68   58    1       112      0       0\n",
      "69   50    1       150      0       0\n",
      "70   44    1       112      0       0\n",
      "71   60    1       130      1       0\n",
      "72   54    1       124      1       0\n",
      "73   50    1       140      0       0\n",
      "74   41    1       110      0       0\n",
      "75   51    0       130      1       0\n",
      "76   58    1       128      1       0\n",
      "77   54    1       120      0       0\n",
      "78   60    1       145      1       0\n",
      "79   60    1       140      0       0\n",
      "\n",
      "\n",
      "Testing Data:\n",
      "==============\n",
      "\n",
      "    age  sex  trestbps  exang  target\n",
      "80   59    1       170      1       0\n",
      "81   46    1       150      0       0\n",
      "82   67    1       125      0       0\n",
      "83   62    1       120      1       0\n",
      "84   65    1       110      0       0\n",
      "85   44    1       110      0       0\n",
      "86   60    1       125      1       0\n",
      "87   58    1       150      1       0\n",
      "88   68    1       180      1       0\n",
      "89   62    0       160      0       0\n",
      "90   52    1       128      1       0\n",
      "91   59    1       110      1       0\n",
      "92   60    0       150      0       0\n",
      "93   49    1       120      0       0\n",
      "94   59    1       140      1       0\n",
      "95   57    1       128      0       0\n",
      "96   61    1       120      1       0\n",
      "97   39    1       118      0       0\n",
      "98   61    0       145      1       0\n",
      "99   56    1       125      1       0\n"
     ]
    }
   ],
   "source": [
    "# Splitting Sample Data into Training Data and Testing Data\n",
    "\n",
    "training_data_encoded, testing_data_encoded = train_test_split( sample_data , test_size=0.2 , random_state=0 , shuffle = False)\n",
    "\n",
    "# Save the Training and Testing Data into CSV File\n",
    "\n",
    "training_data_encoded.to_csv(r'training-data-encoded.csv', index = False, header = True)\n",
    "testing_data_encoded.to_csv(r'testing-data-encoded.csv', index = False, header = True)\n",
    "\n",
    "# print Training and Testing Data\n",
    "\n",
    "print(\"\\n\\nTraining Data:\")\n",
    "print(\"==============\\n\")\n",
    "pd.set_option(\"display.max_rows\", None, \"display.max_columns\", None)\n",
    "print(training_data_encoded)\n",
    "print(\"\\n\\nTesting Data:\")\n",
    "print(\"==============\\n\")\n",
    "pd.set_option(\"display.max_rows\", None, \"display.max_columns\", None)\n",
    "print(testing_data_encoded)\n"
   ]
  },
  {
   "cell_type": "markdown",
   "id": "fc702903-c057-4be1-9c60-25453a237ddc",
   "metadata": {},
   "source": [
    "## Step 6.2: Splitting Input Vectors and Outputs / Labels of Training Data"
   ]
  },
  {
   "cell_type": "code",
   "execution_count": 72,
   "id": "34d618ae-cfca-47a7-9fdc-4cedd678f9c0",
   "metadata": {},
   "outputs": [
    {
     "name": "stdout",
     "output_type": "stream",
     "text": [
      "\n",
      "\n",
      "Inputs Vectors (Feature Vectors) of Training Data:\n",
      "==================================================\n",
      "\n",
      "    age  sex  trestbps  exang\n",
      "0    63    1       145      0\n",
      "1    37    1       130      0\n",
      "2    41    0       130      0\n",
      "3    56    1       120      0\n",
      "4    57    0       120      1\n",
      "5    57    1       140      0\n",
      "6    56    0       140      0\n",
      "7    44    1       120      0\n",
      "8    52    1       172      0\n",
      "9    57    1       150      0\n",
      "10   54    1       140      0\n",
      "11   48    0       130      0\n",
      "12   49    1       130      0\n",
      "13   64    1       110      1\n",
      "14   58    0       150      0\n",
      "15   50    0       120      0\n",
      "16   58    0       120      0\n",
      "17   66    0       150      0\n",
      "18   43    1       150      0\n",
      "19   69    0       140      0\n",
      "20   59    1       135      0\n",
      "21   44    1       130      1\n",
      "22   42    1       140      0\n",
      "23   61    1       150      1\n",
      "24   40    1       140      1\n",
      "25   71    0       160      0\n",
      "26   59    1       150      0\n",
      "27   51    1       110      0\n",
      "28   65    0       140      0\n",
      "29   53    1       130      0\n",
      "30   41    0       105      0\n",
      "31   65    1       120      0\n",
      "32   44    1       130      0\n",
      "33   54    1       125      0\n",
      "34   51    1       125      1\n",
      "35   46    0       142      1\n",
      "36   54    0       135      0\n",
      "37   54    1       150      0\n",
      "38   65    0       155      0\n",
      "39   65    0       160      0\n",
      "40   51    0       140      0\n",
      "41   48    1       130      0\n",
      "42   45    1       104      1\n",
      "43   53    0       130      0\n",
      "44   39    1       140      0\n",
      "45   52    1       120      0\n",
      "46   44    1       140      0\n",
      "47   47    1       138      0\n",
      "48   53    0       128      0\n",
      "49   53    0       138      0\n",
      "50   67    1       160      1\n",
      "51   67    1       120      1\n",
      "52   62    0       140      0\n",
      "53   63    1       130      0\n",
      "54   53    1       140      1\n",
      "55   56    1       130      1\n",
      "56   48    1       110      0\n",
      "57   58    1       120      0\n",
      "58   58    1       132      0\n",
      "59   60    1       130      1\n",
      "60   40    1       110      1\n",
      "61   60    1       117      1\n",
      "62   64    1       140      0\n",
      "63   43    1       120      1\n",
      "64   57    1       150      1\n",
      "65   55    1       132      1\n",
      "66   65    0       150      0\n",
      "67   61    0       130      0\n",
      "68   58    1       112      0\n",
      "69   50    1       150      0\n",
      "70   44    1       112      0\n",
      "71   60    1       130      1\n",
      "72   54    1       124      1\n",
      "73   50    1       140      0\n",
      "74   41    1       110      0\n",
      "75   51    0       130      1\n",
      "76   58    1       128      1\n",
      "77   54    1       120      0\n",
      "78   60    1       145      1\n",
      "79   60    1       140      0\n",
      "\n",
      "\n",
      "Outputs/Labels of Training Data:\n",
      "================================\n",
      "\n",
      "  Survived\n",
      "0     1\n",
      "1     1\n",
      "2     1\n",
      "3     1\n",
      "4     1\n",
      "5     1\n",
      "6     1\n",
      "7     1\n",
      "8     1\n",
      "9     1\n",
      "10    1\n",
      "11    1\n",
      "12    1\n",
      "13    1\n",
      "14    1\n",
      "15    1\n",
      "16    1\n",
      "17    1\n",
      "18    1\n",
      "19    1\n",
      "20    1\n",
      "21    1\n",
      "22    1\n",
      "23    1\n",
      "24    1\n",
      "25    1\n",
      "26    1\n",
      "27    1\n",
      "28    1\n",
      "29    1\n",
      "30    1\n",
      "31    1\n",
      "32    1\n",
      "33    1\n",
      "34    1\n",
      "35    1\n",
      "36    1\n",
      "37    1\n",
      "38    1\n",
      "39    1\n",
      "40    1\n",
      "41    1\n",
      "42    1\n",
      "43    1\n",
      "44    1\n",
      "45    1\n",
      "46    1\n",
      "47    1\n",
      "48    1\n",
      "49    1\n",
      "50    0\n",
      "51    0\n",
      "52    0\n",
      "53    0\n",
      "54    0\n",
      "55    0\n",
      "56    0\n",
      "57    0\n",
      "58    0\n",
      "59    0\n",
      "60    0\n",
      "61    0\n",
      "62    0\n",
      "63    0\n",
      "64    0\n",
      "65    0\n",
      "66    0\n",
      "67    0\n",
      "68    0\n",
      "69    0\n",
      "70    0\n",
      "71    0\n",
      "72    0\n",
      "73    0\n",
      "74    0\n",
      "75    0\n",
      "76    0\n",
      "77    0\n",
      "78    0\n",
      "79    0\n",
      "Name: target, dtype: int64\n"
     ]
    }
   ],
   "source": [
    "# Splitting Input Vectors and Outputs / Labels of Training Data\n",
    "\n",
    "'''\n",
    "*---------------- SPLIT_INPUT_VECTORS_AND_LABELS --------------*\n",
    "|        Function: iloc()                                      |\n",
    "|            Purpose: Splitting Input Vector and Labels        |\n",
    "|        Arguments:                                            |\n",
    "|            Attribute: Name or Location Attribute to Split    |\n",
    "|        Return:                                               |\n",
    "|            Attribute: Split Attributes                       |\n",
    "*--------------------------------------------------------------*\n",
    "'''\n",
    "\n",
    "print(\"\\n\\nInputs Vectors (Feature Vectors) of Training Data:\")\n",
    "print(\"==================================================\\n\")\n",
    "input_vector_train = training_data_encoded.iloc[: , :-1]\n",
    "print(input_vector_train)\n",
    "\n",
    "print(\"\\n\\nOutputs/Labels of Training Data:\")\n",
    "print(\"================================\\n\")\n",
    "print(\"  Survived\")\n",
    "output_label_train = training_data_encoded.iloc[: ,-1]\n",
    "print(output_label_train)"
   ]
  },
  {
   "cell_type": "markdown",
   "id": "87506382-3d35-469c-85a9-ea317c153460",
   "metadata": {},
   "source": [
    "# 6.3: Train the Support Vector Classifier\r\n",
    "\r\n"
   ]
  },
  {
   "cell_type": "code",
   "execution_count": 75,
   "id": "5c31752f-fbf1-4a95-b9ab-069b8f7153ad",
   "metadata": {},
   "outputs": [
    {
     "name": "stdout",
     "output_type": "stream",
     "text": [
      "\n",
      "\n",
      "Training the Support Vector Classifier on Training Data\n",
      "========================================================\n",
      "\n",
      "\n",
      "Parameters and their values:\n",
      "============================\n",
      "\n",
      "SVC(gamma='auto', random_state=0)\n"
     ]
    }
   ],
   "source": [
    "# Train the Support Vector Classifier\n",
    "\n",
    "print(\"\\n\\nTraining the Support Vector Classifier on Training Data\")\n",
    "print(\"========================================================\\n\")\n",
    "print(\"\\nParameters and their values:\")\n",
    "print(\"============================\\n\")\n",
    "svc_model = svm.SVC(gamma='auto',random_state=0)\n",
    "svc_model.fit(input_vector_train,np.ravel(output_label_train))\n",
    "print(svc_model)"
   ]
  },
  {
   "cell_type": "markdown",
   "id": "063cc8e0-9d8d-4299-87bc-cc46a9bd179d",
   "metadata": {},
   "source": [
    "## Step 6.4: Save the Trained Model"
   ]
  },
  {
   "cell_type": "code",
   "execution_count": 78,
   "id": "c9d3942f-abf8-45ad-813d-11daed3f29ca",
   "metadata": {},
   "outputs": [],
   "source": [
    "# Save the Trained Model\n",
    "\n",
    "\n",
    "pickle.dump(svc_model, open('svc_trained_model.pkl', 'wb'))"
   ]
  },
  {
   "cell_type": "markdown",
   "id": "357e57a5-01e0-4f35-a3e1-6c1b036e7c69",
   "metadata": {},
   "source": [
    "# Step 7: Execute the Testing Phase "
   ]
  },
  {
   "cell_type": "markdown",
   "id": "b6d6b8e9-26b0-4527-9109-1fcb7f41bd94",
   "metadata": {},
   "source": [
    "## Step 7.1: Splitting Input Vectors and Outputs/Labels of Testing Data"
   ]
  },
  {
   "cell_type": "code",
   "execution_count": 82,
   "id": "0040e319-15f2-4e58-af0a-b7efb832402e",
   "metadata": {},
   "outputs": [
    {
     "name": "stdout",
     "output_type": "stream",
     "text": [
      "\n",
      "\n",
      "Inputs Vectors (Feature Vectors) of Testing Data:\n",
      "=================================================\n",
      "\n",
      "    age  sex  trestbps  exang\n",
      "80   59    1       170      1\n",
      "81   46    1       150      0\n",
      "82   67    1       125      0\n",
      "83   62    1       120      1\n",
      "84   65    1       110      0\n",
      "85   44    1       110      0\n",
      "86   60    1       125      1\n",
      "87   58    1       150      1\n",
      "88   68    1       180      1\n",
      "89   62    0       160      0\n",
      "90   52    1       128      1\n",
      "91   59    1       110      1\n",
      "92   60    0       150      0\n",
      "93   49    1       120      0\n",
      "94   59    1       140      1\n",
      "95   57    1       128      0\n",
      "96   61    1       120      1\n",
      "97   39    1       118      0\n",
      "98   61    0       145      1\n",
      "99   56    1       125      1\n",
      "\n",
      "\n",
      "Outputs/Labels of Testing Data:\n",
      "==============================\n",
      "\n",
      "  Target\n",
      "80    0\n",
      "81    0\n",
      "82    0\n",
      "83    0\n",
      "84    0\n",
      "85    0\n",
      "86    0\n",
      "87    0\n",
      "88    0\n",
      "89    0\n",
      "90    0\n",
      "91    0\n",
      "92    0\n",
      "93    0\n",
      "94    0\n",
      "95    0\n",
      "96    0\n",
      "97    0\n",
      "98    0\n",
      "99    0\n",
      "Name: target, dtype: int64\n"
     ]
    }
   ],
   "source": [
    "# Splitting Input Vectors and Outputs/Labels of Testing Data\n",
    "\n",
    "print(\"\\n\\nInputs Vectors (Feature Vectors) of Testing Data:\")\n",
    "print(\"=================================================\\n\")\n",
    "input_vector_test = testing_data_encoded.iloc[: , :-1]\n",
    "print(input_vector_test)\n",
    "\n",
    "print(\"\\n\\nOutputs/Labels of Testing Data:\")\n",
    "print(\"==============================\\n\")\n",
    "print(\"  Target\")\n",
    "output_label_test = testing_data_encoded.iloc[: ,-1]\n",
    "print(output_label_test)"
   ]
  },
  {
   "cell_type": "markdown",
   "id": "17f718a4-53cc-4f48-add5-3288b056886e",
   "metadata": {},
   "source": [
    "## Step 7.2: Load the Saved Model"
   ]
  },
  {
   "cell_type": "code",
   "execution_count": 85,
   "id": "90e0c858-b676-48e4-a48c-07c74d040fab",
   "metadata": {},
   "outputs": [],
   "source": [
    "# Load the Saved Model\n",
    "\n",
    "model = pickle.load(open('svc_trained_model.pkl', 'rb'))"
   ]
  },
  {
   "cell_type": "markdown",
   "id": "09f714a1-2023-45a4-9419-287b327ba74c",
   "metadata": {},
   "source": [
    "## Step 7.3: Evaluate the Machine Learning Model\n"
   ]
  },
  {
   "cell_type": "markdown",
   "id": "ff910a39-7ac0-4e52-988e-57caa41e08b5",
   "metadata": {},
   "source": [
    "### Step 7.3.1: Make Predictions with the Trained Models on Testing Data"
   ]
  },
  {
   "cell_type": "code",
   "execution_count": 89,
   "id": "9bbcdda5-d1c3-4624-8055-abc8e59c1fac",
   "metadata": {},
   "outputs": [
    {
     "name": "stdout",
     "output_type": "stream",
     "text": [
      "\n",
      "\n",
      "Predictions Returned by svc_trained_model:\n",
      "==========================================\n",
      "\n",
      "    age  sex  trestbps  exang  target  Predictions\n",
      "80   59    1       170      1       0            1\n",
      "81   46    1       150      0       0            1\n",
      "82   67    1       125      0       0            1\n",
      "83   62    1       120      1       0            1\n",
      "84   65    1       110      0       0            1\n",
      "85   44    1       110      0       0            0\n",
      "86   60    1       125      1       0            1\n",
      "87   58    1       150      1       0            1\n",
      "88   68    1       180      1       0            1\n",
      "89   62    0       160      0       0            1\n",
      "90   52    1       128      1       0            1\n",
      "91   59    1       110      1       0            1\n",
      "92   60    0       150      0       0            1\n",
      "93   49    1       120      0       0            1\n",
      "94   59    1       140      1       0            0\n",
      "95   57    1       128      0       0            0\n",
      "96   61    1       120      1       0            1\n",
      "97   39    1       118      0       0            1\n",
      "98   61    0       145      1       0            0\n",
      "99   56    1       125      1       0            1\n"
     ]
    }
   ],
   "source": [
    "# Evaluate the Machine Learning Model\n",
    "\n",
    "# Provide Test data to the Trained Model\n",
    "\n",
    "model_predictions = model.predict(input_vector_test)\n",
    "testing_data_encoded.copy(deep=True)\n",
    "pd.options.mode.chained_assignment = None\n",
    "testing_data_encoded[\"Predictions\"] = model_predictions\n",
    "\n",
    "# Save the Predictions into CSV File\n",
    "\n",
    "testing_data_encoded.to_csv(r'model-predictions.csv', index = False, header = True)\n",
    "\n",
    "model_predictions = testing_data_encoded\n",
    "print(\"\\n\\nPredictions Returned by svc_trained_model:\")\n",
    "print(\"==========================================\\n\")\n",
    "print(model_predictions)"
   ]
  },
  {
   "cell_type": "markdown",
   "id": "c64f2ce1-9e4f-4017-8b2f-064040df95fe",
   "metadata": {},
   "source": [
    "## Step 7.4: Calculate the Accuracy Score"
   ]
  },
  {
   "cell_type": "code",
   "execution_count": 92,
   "id": "477958fc-6bca-4aee-9526-536143a3ebe3",
   "metadata": {},
   "outputs": [
    {
     "name": "stdout",
     "output_type": "stream",
     "text": [
      "\n",
      "\n",
      "Accuracy Score:\n",
      "===============\n",
      "\n",
      "0.2\n"
     ]
    }
   ],
   "source": [
    "# Calculate the Accuracy Score\n",
    "\n",
    "\n",
    "model_accuracy_score = accuracy_score(model_predictions[\"target\"],model_predictions[\"Predictions\"])\n",
    "\n",
    "print(\"\\n\\nAccuracy Score:\")\n",
    "print(\"===============\\n\")\n",
    "print(round(model_accuracy_score,2))"
   ]
  },
  {
   "cell_type": "markdown",
   "id": "3e951362-071e-4318-bb73-3d0d56097ed4",
   "metadata": {},
   "source": [
    "# Step 8: Execute the Application Phase"
   ]
  },
  {
   "cell_type": "markdown",
   "id": "7d9b52bb-42ac-48c9-b7b1-7d5b08dbfdcb",
   "metadata": {},
   "source": [
    "## Step 8.1: Take Input from User"
   ]
  },
  {
   "cell_type": "code",
   "execution_count": 118,
   "id": "0d636463-44a6-449a-bdf1-148d8cc6fed7",
   "metadata": {},
   "outputs": [
    {
     "name": "stdin",
     "output_type": "stream",
     "text": [
      "Please enter age :  35\n",
      "Please enter Sex (Male/Female, 1 = male; 0 = female):  1\n",
      "Please enter trestbps (resting blood pressure ):  140\n",
      "Please enter Exang (exercise induced angina, 1 = yes; 0 = no):  0\n"
     ]
    }
   ],
   "source": [
    "# Take Input from User\n",
    "\n",
    "# Prompt the user for inputs\n",
    "age_input = input(\"Please enter age : \").strip()\n",
    "Sex_input = input(\"Please enter Sex (Male/Female, 1 = male; 0 = female): \").strip()\n",
    "trestbps_input = input(\"Please enter trestbps (resting blood pressure ): \").strip()\n",
    "Exang_input = input(\"Please enter Exang (exercise induced angina, 1 = yes; 0 = no): \").strip()"
   ]
  },
  {
   "cell_type": "markdown",
   "id": "35924b89-91c1-4c29-933d-e3d9cfdcdb85",
   "metadata": {},
   "source": [
    "## Step 8.2: Convert User Input into Feature Vector (Exactly Same as Feature Vectors of Sample Data)"
   ]
  },
  {
   "cell_type": "code",
   "execution_count": 127,
   "id": "7c86b8e3-a6c9-4e35-a245-4dff5e325004",
   "metadata": {},
   "outputs": [
    {
     "name": "stdout",
     "output_type": "stream",
     "text": [
      "Input data has been written to the CSV file.\n"
     ]
    }
   ],
   "source": [
    "# Convert User Input into Feature Vector\n",
    "\n",
    "# Create a DataFrame with the input data\n",
    "data = {\n",
    "    'age': [age_input],\n",
    "    'Sex': [Sex_input],\n",
    "    'trestbps': [trestbps_input],\n",
    "    'Exang': [Exang_input],\n",
    "}\n",
    "\n",
    "df = pd.DataFrame(data)\n",
    "\n",
    "# Append to the existing CSV file\n",
    "df.to_csv('Heart-disease.csv', mode='a', header=False, index=False)\n",
    "\n",
    "print(\"Input data has been written to the CSV file.\")"
   ]
  },
  {
   "cell_type": "markdown",
   "id": "dfc5ee5c-82b8-4e5f-a035-d8c649ec42a8",
   "metadata": {},
   "source": [
    "## Step 8.3: Label Encoding of Feature Vector (Exactly Same as Label Encoded Feature Vectors of Sample Data)"
   ]
  },
  {
   "cell_type": "code",
   "execution_count": 132,
   "id": "435ff379-0db3-4334-be05-6af555090d92",
   "metadata": {},
   "outputs": [
    {
     "name": "stdout",
     "output_type": "stream",
     "text": [
      "\n",
      "\n",
      "User Input Feature Vector:\n",
      "==========================\n",
      "\n",
      "{'age': [50], 'sex': [1], 'trestbps': [130], 'exang': ['No']}\n",
      "\n",
      "\n",
      "User Input Encoded Feature Vector:\n",
      "==================================\n",
      "\n",
      "{'age': [50], 'sex': [1], 'trestbps': [130], 'exang': array([0])}\n",
      "\n",
      "Input data has been written to the CSV file.\n"
     ]
    }
   ],
   "source": [
    "import pandas as pd\n",
    "from sklearn.preprocessing import LabelEncoder\n",
    "\n",
    "# Sample user inputs\n",
    "age_input = 50  # example input for age (numeric)\n",
    "sex_input = 1  # example input for sex (numerical)\n",
    "trestbps_input = 130  # example input for trestbps (numeric)\n",
    "exang_input = 'No'  # example input for exang (categorical)\n",
    "\n",
    "# Example encoders for demonstration (fit them on your actual data or read from Excel)\n",
    "exang_samples = ['Yes', 'No']  # Replace with actual values from your data\n",
    "\n",
    "# Initialize and fit the LabelEncoder for 'exang'\n",
    "exang_label_encoder = LabelEncoder().fit(exang_samples)\n",
    "\n",
    "# User input dictionary\n",
    "user_input = {\n",
    "    'age': [age_input],  # Numeric, no encoding needed\n",
    "    'sex': [sex_input],  # Numeric, no encoding needed\n",
    "    'trestbps': [trestbps_input],  # Numeric, no encoding needed\n",
    "    'exang': [exang_input],\n",
    "}\n",
    "\n",
    "# Copy the user input\n",
    "unseen_data_features = user_input.copy()\n",
    "\n",
    "# Encode the categorical features\n",
    "unseen_data_features[\"exang\"] = exang_label_encoder.transform(user_input['exang'])\n",
    "\n",
    "print(\"\\n\\nUser Input Feature Vector:\")\n",
    "print(\"==========================\\n\")\n",
    "print(user_input)\n",
    "\n",
    "print(\"\\n\\nUser Input Encoded Feature Vector:\")\n",
    "print(\"==================================\\n\")\n",
    "print(unseen_data_features)\n",
    "\n",
    "# Create a DataFrame with the input data\n",
    "df = pd.DataFrame(unseen_data_features)\n",
    "\n",
    "# Append to the existing CSV file\n",
    "df.to_csv('Heart-disease.csv', mode='a', header=False, index=False)\n",
    "\n",
    "print(\"\\nInput data has been written to the CSV file.\")\n"
   ]
  },
  {
   "cell_type": "markdown",
   "id": "ee931add-5a80-4943-954b-9894deae424a",
   "metadata": {},
   "source": [
    "## Step 8.4: Load the Saved Model"
   ]
  },
  {
   "cell_type": "code",
   "execution_count": 135,
   "id": "f82510bd-e097-4639-b9b4-31f156d5af96",
   "metadata": {},
   "outputs": [],
   "source": [
    "# Load the Saved Model\n",
    "\n",
    "model = pickle.load(open('svc_trained_model.pkl', 'rb'))"
   ]
  },
  {
   "cell_type": "markdown",
   "id": "3ab208da-cb70-4812-8150-6236351a12c6",
   "metadata": {},
   "source": [
    "## Step 8.5: Model Prediction"
   ]
  },
  {
   "cell_type": "markdown",
   "id": "d8e3ce35-4c16-4cb0-8dff-33168a42d8b8",
   "metadata": {},
   "source": [
    "### Step 8.5.1: Apply Model on the Label Encoded Feature Vector of unseen instance and return Prediction to the User"
   ]
  },
  {
   "cell_type": "code",
   "execution_count": 141,
   "id": "97dbb1a3-03f8-411c-b79e-42ece45c0eb7",
   "metadata": {},
   "outputs": [
    {
     "name": "stdout",
     "output_type": "stream",
     "text": [
      "+-----------------------+\n",
      "|    ** Prediction **   |\n",
      "+-----------------------+\n",
      "| HEART DISEASE PRESENT |\n",
      "+-----------------------+\n"
     ]
    }
   ],
   "source": [
    "# Convert to DataFrame for model prediction\n",
    "unseen_data_features_df = pd.DataFrame(unseen_data_features)\n",
    "\n",
    "# Assuming 'model' is your pre-trained model\n",
    "# Example: model = RandomForestClassifier().fit(X_train, y_train)\n",
    "\n",
    "# Make a prediction on the unseen data\n",
    "predicted_heart_disease = model.predict(unseen_data_features_df)\n",
    "\n",
    "if predicted_heart_disease[0] == 1:\n",
    "    prediction = \"HEART DISEASE PRESENT\"\n",
    "else:\n",
    "    prediction = \"NO HEART DISEASE\"\n",
    "\n",
    "# Add the Prediction in a Pretty Table\n",
    "pretty_table = PrettyTable()\n",
    "pretty_table.add_column(\"** Prediction **\", [prediction])\n",
    "print(pretty_table)"
   ]
  },
  {
   "cell_type": "markdown",
   "id": "3b9be28e-f92e-4385-ba4b-258ce9558832",
   "metadata": {},
   "source": [
    "# Step 9: Execute the Feedback Phase\n",
    "## A Two-Step Process\n",
    "### Step 01: After some time, take Feedback from\n",
    "    o\tDomain Experts and Users on deployed Titanic Passenger Survival Prediction System\n",
    "### Step 02: Make a List of Possible Improvements based on Feedback received"
   ]
  },
  {
   "cell_type": "markdown",
   "id": "7d335b01-dd62-414a-84fc-ea597a795ae8",
   "metadata": {},
   "source": [
    "# Step 10: Improve Model based on Feedback\n",
    "### There is Always Room for Improvement\n",
    "### Based on Feedback from Domain Experts and Users\n",
    "    o\tImprove your Model"
   ]
  },
  {
   "cell_type": "code",
   "execution_count": null,
   "id": "c84ea3a5-96a7-4fd9-a4f3-bd72ef341be4",
   "metadata": {},
   "outputs": [],
   "source": []
  }
 ],
 "metadata": {
  "kernelspec": {
   "display_name": "Python 3 (ipykernel)",
   "language": "python",
   "name": "python3"
  },
  "language_info": {
   "codemirror_mode": {
    "name": "ipython",
    "version": 3
   },
   "file_extension": ".py",
   "mimetype": "text/x-python",
   "name": "python",
   "nbconvert_exporter": "python",
   "pygments_lexer": "ipython3",
   "version": "3.12.4"
  }
 },
 "nbformat": 4,
 "nbformat_minor": 5
}
